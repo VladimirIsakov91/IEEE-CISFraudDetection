{
 "cells": [
  {
   "cell_type": "code",
   "execution_count": 1,
   "metadata": {},
   "outputs": [],
   "source": [
    "import numpy\n",
    "import pandas\n",
    "import matplotlib.pyplot as plt\n",
    "import seaborn as sns\n",
    "import dask.dataframe as df\n",
    "#from dask_ml.impute import SimpleImputer\n",
    "#from dask_ml.xgboost import XGBClassifier\n",
    "#from dask_ml.preprocessing import LabelEncoder\n",
    "#from dask_ml.model_selection import KFold\n",
    "#from dask_ml.linear_model import LogisticRegression\n",
    "from dask.distributed import Client, LocalCluster\n",
    "from dask import compute\n",
    "from xgboost import XGBClassifier\n",
    "from sklearn.manifold import TSNE\n",
    "from sklearn.ensemble import RandomForestClassifier, RandomForestRegressor\n",
    "from sklearn.preprocessing import MinMaxScaler\n",
    "from sklearn.model_selection import StratifiedKFold\n",
    "from sklearn.metrics import recall_score, precision_score, f1_score, precision_recall_curve, auc, roc_curve, roc_auc_score\n",
    "from sklearn.preprocessing import LabelEncoder, StandardScaler, PolynomialFeatures\n",
    "from sklearn.linear_model import LogisticRegression\n",
    "from sklearn.experimental import enable_iterative_imputer\n",
    "from sklearn.impute import SimpleImputer, IterativeImputer\n",
    "from sklearn.feature_selection import VarianceThreshold\n",
    "from sklearn.feature_selection import RFECV\n",
    "from skopt import BayesSearchCV\n",
    "from scipy.stats import ttest_ind, ttest_rel\n",
    "from imblearn.over_sampling import SMOTENC\n",
    "\n",
    "from collections import namedtuple, Counter\n",
    "from recordtype import recordtype\n",
    "import pickle\n",
    "\n",
    "sns.set(style=\"darkgrid\")\n",
    "numpy.set_printoptions(suppress=True)\n"
   ]
  },
  {
   "cell_type": "code",
   "execution_count": 2,
   "metadata": {},
   "outputs": [],
   "source": [
    "SEED = 0\n",
    "JOBS = 10"
   ]
  },
  {
   "cell_type": "code",
   "execution_count": 3,
   "metadata": {},
   "outputs": [],
   "source": [
    "cluster = LocalCluster(n_workers=JOBS)\n",
    "client = Client(cluster)"
   ]
  },
  {
   "cell_type": "markdown",
   "metadata": {},
   "source": [
    "# Data Cleaning"
   ]
  },
  {
   "cell_type": "code",
   "execution_count": 4,
   "metadata": {},
   "outputs": [],
   "source": [
    "train_transaction = df.read_csv('./data/train_transaction.csv').set_index('TransactionID')\n",
    "train_identity = df.read_csv('./data/train_identity.csv').set_index('TransactionID')"
   ]
  },
  {
   "cell_type": "code",
   "execution_count": 5,
   "metadata": {},
   "outputs": [
    {
     "name": "stdout",
     "output_type": "stream",
     "text": [
      "<class 'dask.dataframe.core.DataFrame'>\n",
      "Columns: 393 entries, isFraud to V339\n",
      "dtypes: object(14), float64(376), int64(3)"
     ]
    }
   ],
   "source": [
    "train_transaction.info()"
   ]
  },
  {
   "cell_type": "code",
   "execution_count": 6,
   "metadata": {},
   "outputs": [
    {
     "name": "stdout",
     "output_type": "stream",
     "text": [
      "<class 'dask.dataframe.core.DataFrame'>\n",
      "Columns: 40 entries, id_01 to DeviceInfo\n",
      "dtypes: object(17), float64(23)"
     ]
    }
   ],
   "source": [
    "train_identity.info()"
   ]
  },
  {
   "cell_type": "code",
   "execution_count": 7,
   "metadata": {},
   "outputs": [],
   "source": [
    "X_train = train_transaction.join(train_identity, how='left')"
   ]
  },
  {
   "cell_type": "code",
   "execution_count": 14,
   "metadata": {},
   "outputs": [
    {
     "name": "stdout",
     "output_type": "stream",
     "text": [
      "<class 'dask.dataframe.core.DataFrame'>\n",
      "Columns: 433 entries, isFraud to DeviceInfo\n",
      "dtypes: object(31), float64(399), int64(3)"
     ]
    }
   ],
   "source": [
    "X_train.info()"
   ]
  },
  {
   "cell_type": "code",
   "execution_count": 9,
   "metadata": {},
   "outputs": [
    {
     "data": {
      "text/plain": [
       "['/home/vladimir/PycharmProjects/IEEE-CISFraudDetection/data/X_train/00.csv',\n",
       " '/home/vladimir/PycharmProjects/IEEE-CISFraudDetection/data/X_train/01.csv',\n",
       " '/home/vladimir/PycharmProjects/IEEE-CISFraudDetection/data/X_train/02.csv',\n",
       " '/home/vladimir/PycharmProjects/IEEE-CISFraudDetection/data/X_train/03.csv',\n",
       " '/home/vladimir/PycharmProjects/IEEE-CISFraudDetection/data/X_train/04.csv',\n",
       " '/home/vladimir/PycharmProjects/IEEE-CISFraudDetection/data/X_train/05.csv',\n",
       " '/home/vladimir/PycharmProjects/IEEE-CISFraudDetection/data/X_train/06.csv',\n",
       " '/home/vladimir/PycharmProjects/IEEE-CISFraudDetection/data/X_train/07.csv',\n",
       " '/home/vladimir/PycharmProjects/IEEE-CISFraudDetection/data/X_train/08.csv',\n",
       " '/home/vladimir/PycharmProjects/IEEE-CISFraudDetection/data/X_train/09.csv',\n",
       " '/home/vladimir/PycharmProjects/IEEE-CISFraudDetection/data/X_train/10.csv',\n",
       " '/home/vladimir/PycharmProjects/IEEE-CISFraudDetection/data/X_train/11.csv',\n",
       " '/home/vladimir/PycharmProjects/IEEE-CISFraudDetection/data/X_train/12.csv']"
      ]
     },
     "execution_count": 9,
     "metadata": {},
     "output_type": "execute_result"
    }
   ],
   "source": [
    "X_train.to_csv('./data/X_train/*.csv', index=True, header=True)"
   ]
  },
  {
   "cell_type": "code",
   "execution_count": 11,
   "metadata": {},
   "outputs": [],
   "source": [
    "test_transaction = df.read_csv('./data/test_transaction.csv').set_index('TransactionID')\n",
    "test_identity = df.read_csv('./data/test_identity.csv').set_index('TransactionID')"
   ]
  },
  {
   "cell_type": "code",
   "execution_count": 12,
   "metadata": {},
   "outputs": [
    {
     "name": "stdout",
     "output_type": "stream",
     "text": [
      "<class 'dask.dataframe.core.DataFrame'>\n",
      "Columns: 392 entries, TransactionDT to V339\n",
      "dtypes: object(14), float64(376), int64(2)"
     ]
    }
   ],
   "source": [
    "test_transaction.info()"
   ]
  },
  {
   "cell_type": "code",
   "execution_count": 13,
   "metadata": {},
   "outputs": [
    {
     "name": "stdout",
     "output_type": "stream",
     "text": [
      "<class 'dask.dataframe.core.DataFrame'>\n",
      "Columns: 40 entries, id-01 to DeviceInfo\n",
      "dtypes: object(17), float64(23)"
     ]
    }
   ],
   "source": [
    "test_identity.info()"
   ]
  },
  {
   "cell_type": "code",
   "execution_count": 15,
   "metadata": {},
   "outputs": [],
   "source": [
    "X_test = test_transaction.join(test_identity, how='left')"
   ]
  },
  {
   "cell_type": "code",
   "execution_count": 16,
   "metadata": {},
   "outputs": [
    {
     "name": "stdout",
     "output_type": "stream",
     "text": [
      "<class 'dask.dataframe.core.DataFrame'>\n",
      "Columns: 432 entries, TransactionDT to DeviceInfo\n",
      "dtypes: object(31), float64(399), int64(2)"
     ]
    }
   ],
   "source": [
    "X_test.info()"
   ]
  },
  {
   "cell_type": "code",
   "execution_count": 18,
   "metadata": {},
   "outputs": [
    {
     "data": {
      "text/plain": [
       "['id-01',\n",
       " 'id-02',\n",
       " 'id-03',\n",
       " 'id-04',\n",
       " 'id-05',\n",
       " 'id-06',\n",
       " 'id-07',\n",
       " 'id-08',\n",
       " 'id-09',\n",
       " 'id-10',\n",
       " 'id-11',\n",
       " 'id-12',\n",
       " 'id-13',\n",
       " 'id-14',\n",
       " 'id-15',\n",
       " 'id-16',\n",
       " 'id-17',\n",
       " 'id-18',\n",
       " 'id-19',\n",
       " 'id-20',\n",
       " 'id-21',\n",
       " 'id-22',\n",
       " 'id-23',\n",
       " 'id-24',\n",
       " 'id-25',\n",
       " 'id-26',\n",
       " 'id-27',\n",
       " 'id-28',\n",
       " 'id-29',\n",
       " 'id-30',\n",
       " 'id-31',\n",
       " 'id-32',\n",
       " 'id-33',\n",
       " 'id-34',\n",
       " 'id-35',\n",
       " 'id-36',\n",
       " 'id-37',\n",
       " 'id-38']"
      ]
     },
     "execution_count": 18,
     "metadata": {},
     "output_type": "execute_result"
    }
   ],
   "source": [
    "[column for column in X_test.columns if column not in X_train.columns]"
   ]
  },
  {
   "cell_type": "code",
   "execution_count": 21,
   "metadata": {},
   "outputs": [
    {
     "data": {
      "text/plain": [
       "['/home/vladimir/PycharmProjects/IEEE-CISFraudDetection/data/X_test/00.csv',\n",
       " '/home/vladimir/PycharmProjects/IEEE-CISFraudDetection/data/X_test/01.csv',\n",
       " '/home/vladimir/PycharmProjects/IEEE-CISFraudDetection/data/X_test/02.csv',\n",
       " '/home/vladimir/PycharmProjects/IEEE-CISFraudDetection/data/X_test/03.csv',\n",
       " '/home/vladimir/PycharmProjects/IEEE-CISFraudDetection/data/X_test/04.csv',\n",
       " '/home/vladimir/PycharmProjects/IEEE-CISFraudDetection/data/X_test/05.csv',\n",
       " '/home/vladimir/PycharmProjects/IEEE-CISFraudDetection/data/X_test/06.csv',\n",
       " '/home/vladimir/PycharmProjects/IEEE-CISFraudDetection/data/X_test/07.csv',\n",
       " '/home/vladimir/PycharmProjects/IEEE-CISFraudDetection/data/X_test/08.csv',\n",
       " '/home/vladimir/PycharmProjects/IEEE-CISFraudDetection/data/X_test/09.csv',\n",
       " '/home/vladimir/PycharmProjects/IEEE-CISFraudDetection/data/X_test/10.csv']"
      ]
     },
     "execution_count": 21,
     "metadata": {},
     "output_type": "execute_result"
    }
   ],
   "source": [
    "X_test.to_csv('./data/X_test/*.csv', index=True, header=X_train.columns.drop('isFraud'))"
   ]
  },
  {
   "cell_type": "code",
   "execution_count": null,
   "metadata": {},
   "outputs": [],
   "source": []
  },
  {
   "cell_type": "code",
   "execution_count": 4,
   "metadata": {},
   "outputs": [],
   "source": [
    "types={'DeviceInfo': 'object',\n",
    "       'DeviceType': 'object',\n",
    "       'R_emaildomain': 'object',\n",
    "       'id_12': 'object',\n",
    "       'id_15': 'object',\n",
    "       'id_16': 'object',\n",
    "       'id_28': 'object',\n",
    "       'id_29': 'object',\n",
    "       'id_31': 'object',\n",
    "       'id_35': 'object',\n",
    "       'id_36': 'object',\n",
    "       'id_37': 'object',\n",
    "       'id_38': 'object',\n",
    "       'id_23': 'object',\n",
    "       'id_27': 'object',\n",
    "       'id_30': 'object',\n",
    "       'id_33': 'object',\n",
    "       'id_34': 'object'}"
   ]
  },
  {
   "cell_type": "code",
   "execution_count": 5,
   "metadata": {},
   "outputs": [],
   "source": [
    "X_train = df.read_csv('./data/X_train/*.csv', dtype=types).set_index('TransactionID')"
   ]
  },
  {
   "cell_type": "code",
   "execution_count": 6,
   "metadata": {},
   "outputs": [
    {
     "data": {
      "text/plain": [
       "0    569877\n",
       "1     20663\n",
       "Name: isFraud, dtype: int64"
      ]
     },
     "execution_count": 6,
     "metadata": {},
     "output_type": "execute_result"
    }
   ],
   "source": [
    "X_train['isFraud'].value_counts().compute()"
   ]
  },
  {
   "cell_type": "code",
   "execution_count": 7,
   "metadata": {},
   "outputs": [],
   "source": [
    "X_train_pos = X_train.loc[X_train['isFraud']==1]\n",
    "X_train_neg = X_train.loc[X_train['isFraud']==0].sample(frac=0.05, random_state=SEED)"
   ]
  },
  {
   "cell_type": "code",
   "execution_count": 8,
   "metadata": {},
   "outputs": [],
   "source": [
    "X_train_sample = df.concat([X_train_pos, X_train_neg])"
   ]
  },
  {
   "cell_type": "code",
   "execution_count": 9,
   "metadata": {},
   "outputs": [],
   "source": [
    "X_train_sample = X_train_sample.compute()"
   ]
  },
  {
   "cell_type": "code",
   "execution_count": null,
   "metadata": {},
   "outputs": [],
   "source": [
    "X_train_sample.to_csv('./data/X_train_sample.csv') "
   ]
  }
 ],
 "metadata": {
  "kernelspec": {
   "display_name": "Python 3",
   "language": "python",
   "name": "python3"
  },
  "language_info": {
   "codemirror_mode": {
    "name": "ipython",
    "version": 3
   },
   "file_extension": ".py",
   "mimetype": "text/x-python",
   "name": "python",
   "nbconvert_exporter": "python",
   "pygments_lexer": "ipython3",
   "version": "3.7.9"
  }
 },
 "nbformat": 4,
 "nbformat_minor": 4
}
